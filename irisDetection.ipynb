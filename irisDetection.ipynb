{
  "nbformat": 4,
  "nbformat_minor": 0,
  "metadata": {
    "colab": {
      "name": "irisDetection.ipynb",
      "provenance": [],
      "collapsed_sections": [],
      "authorship_tag": "ABX9TyO4Wp9NzBzWcKCXjz/21oJ1",
      "include_colab_link": true
    },
    "kernelspec": {
      "name": "python3",
      "display_name": "Python 3"
    }
  },
  "cells": [
    {
      "cell_type": "markdown",
      "metadata": {
        "id": "view-in-github",
        "colab_type": "text"
      },
      "source": [
        "<a href=\"https://colab.research.google.com/github/jordanburdett/IrisflowerDetection/blob/master/irisDetection.ipynb\" target=\"_parent\"><img src=\"https://colab.research.google.com/assets/colab-badge.svg\" alt=\"Open In Colab\"/></a>"
      ]
    },
    {
      "cell_type": "markdown",
      "metadata": {
        "id": "ePwYSLFTHKK8",
        "colab_type": "text"
      },
      "source": [
        "01 Prove : Assignment - Classifier Intro"
      ]
    },
    {
      "cell_type": "code",
      "metadata": {
        "id": "QqYiWOTXHg7o",
        "colab_type": "code",
        "outputId": "0ed50d57-0e01-46a4-a17f-eea5ec78cec9",
        "colab": {
          "base_uri": "https://localhost:8080/",
          "height": 255
        }
      },
      "source": [
        "import pandas as pd\n",
        "\n",
        "url = \"https://byui-cs.github.io/cs450-course/week01/iris.data\"\n",
        "data = pd.read_csv(url)\n",
        "\n",
        "print(data)"
      ],
      "execution_count": 0,
      "outputs": [
        {
          "output_type": "stream",
          "text": [
            "     sepal_length  sepal_width  petal_length  petal_width         species\n",
            "0             5.1          3.5           1.4          0.2     Iris-setosa\n",
            "1             4.9          3.0           1.4          0.2     Iris-setosa\n",
            "2             4.7          3.2           1.3          0.2     Iris-setosa\n",
            "3             4.6          3.1           1.5          0.2     Iris-setosa\n",
            "4             5.0          3.6           1.4          0.2     Iris-setosa\n",
            "..            ...          ...           ...          ...             ...\n",
            "145           6.7          3.0           5.2          2.3  Iris-virginica\n",
            "146           6.3          2.5           5.0          1.9  Iris-virginica\n",
            "147           6.5          3.0           5.2          2.0  Iris-virginica\n",
            "148           6.2          3.4           5.4          2.3  Iris-virginica\n",
            "149           5.9          3.0           5.1          1.8  Iris-virginica\n",
            "\n",
            "[150 rows x 5 columns]\n"
          ],
          "name": "stdout"
        }
      ]
    },
    {
      "cell_type": "markdown",
      "metadata": {
        "id": "-9mIRkifW3uE",
        "colab_type": "text"
      },
      "source": [
        "Split the data into two arrays features: measurements & Targets: species names"
      ]
    },
    {
      "cell_type": "code",
      "metadata": {
        "id": "jYl2y6yuW_Tm",
        "colab_type": "code",
        "colab": {}
      },
      "source": [
        "import numpy as np\n",
        "targets = data['species'].to_numpy()\n",
        "features = data[['sepal_length', 'sepal_width',\n",
        "                'petal_length', 'petal_width']].to_numpy()\n"
      ],
      "execution_count": 0,
      "outputs": []
    },
    {
      "cell_type": "markdown",
      "metadata": {
        "id": "K1Z7X_BugLll",
        "colab_type": "text"
      },
      "source": [
        "randomly split the data using SKlearn train_test_split method"
      ]
    },
    {
      "cell_type": "code",
      "metadata": {
        "id": "kVnb6HgBgXep",
        "colab_type": "code",
        "outputId": "88208f2e-a113-432d-e5a2-271e12ee846a",
        "colab": {
          "base_uri": "https://localhost:8080/",
          "height": 34
        }
      },
      "source": [
        "from sklearn.model_selection import train_test_split\n",
        "\n",
        "train_data, test_data, train_targets, test_targets = train_test_split(features, targets, test_size=.3)"
      ],
      "execution_count": 0,
      "outputs": [
        {
          "output_type": "execute_result",
          "data": {
            "text/plain": [
              "[5, 29]"
            ]
          },
          "metadata": {
            "tags": []
          },
          "execution_count": 69
        }
      ]
    },
    {
      "cell_type": "markdown",
      "metadata": {
        "id": "XS00_A1vitcH",
        "colab_type": "text"
      },
      "source": [
        "Create a class called HardCodedClassifier.\n",
        "\n"
      ]
    },
    {
      "cell_type": "code",
      "metadata": {
        "id": "1rMohxpwi0zA",
        "colab_type": "code",
        "outputId": "2643320e-6865-403a-83ff-e848686e68ff",
        "colab": {
          "base_uri": "https://localhost:8080/",
          "height": 34
        }
      },
      "source": [
        "class HardCodedClassifier:\n",
        "  def fit(self, data, targets):\n",
        "    self.data = data\n",
        "    self.targets = targets\n",
        "\n",
        "  def predict(self, data):\n",
        "    self.testData = data\n",
        "    predictionArray = []\n",
        "\n",
        "    for prediction in data:\n",
        "      predictionArray.append(\"Iris-setosa\")\n",
        "    \n",
        "    return predictionArray\n",
        "\n",
        "\n",
        "\n",
        "\n",
        "classifier = HardCodedClassifier()\n",
        "classifier.fit(train_data, train_targets)\n",
        "\n",
        "predictions = classifier.predict(test_data)\n",
        "\n",
        "numCorrect = 0\n",
        "\n",
        "for i in range(len(predictions)):\n",
        "  if predictions[i] == test_targets[i]:\n",
        "    numCorrect += 1\n",
        "\n",
        "accuracy = (numCorrect / len(predictions)) * 100\n",
        "\n",
        "accuracy"
      ],
      "execution_count": 0,
      "outputs": [
        {
          "output_type": "execute_result",
          "data": {
            "text/plain": [
              "28.888888888888886"
            ]
          },
          "metadata": {
            "tags": []
          },
          "execution_count": 83
        }
      ]
    }
  ]
}