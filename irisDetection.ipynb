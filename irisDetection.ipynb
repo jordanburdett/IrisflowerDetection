{
  "nbformat": 4,
  "nbformat_minor": 0,
  "metadata": {
    "colab": {
      "name": "irisDetection.ipynb",
      "provenance": [],
      "collapsed_sections": [],
      "authorship_tag": "ABX9TyNsWLrTgm2LiP5ajBP5Q8O/",
      "include_colab_link": true
    },
    "kernelspec": {
      "name": "python3",
      "display_name": "Python 3"
    }
  },
  "cells": [
    {
      "cell_type": "markdown",
      "metadata": {
        "id": "view-in-github",
        "colab_type": "text"
      },
      "source": [
        "<a href=\"https://colab.research.google.com/github/jordanburdett/IrisflowerDetection/blob/master/irisDetection.ipynb\" target=\"_parent\"><img src=\"https://colab.research.google.com/assets/colab-badge.svg\" alt=\"Open In Colab\"/></a>"
      ]
    },
    {
      "cell_type": "markdown",
      "metadata": {
        "id": "ePwYSLFTHKK8",
        "colab_type": "text"
      },
      "source": [
        "01 Prove : Assignment - Classifier Intro"
      ]
    },
    {
      "cell_type": "code",
      "metadata": {
        "id": "QqYiWOTXHg7o",
        "colab_type": "code",
        "outputId": "71e059a0-ecb0-44e0-d15a-21c0b5dda6ac",
        "colab": {
          "base_uri": "https://localhost:8080/",
          "height": 255
        }
      },
      "source": [
        "import pandas as pd\n",
        "\n",
        "url = \"https://byui-cs.github.io/cs450-course/week01/iris.data\"\n",
        "data = pd.read_csv(url)\n",
        "\n",
        "print(data)"
      ],
      "execution_count": 1,
      "outputs": [
        {
          "output_type": "stream",
          "text": [
            "     sepal_length  sepal_width  petal_length  petal_width         species\n",
            "0             5.1          3.5           1.4          0.2     Iris-setosa\n",
            "1             4.9          3.0           1.4          0.2     Iris-setosa\n",
            "2             4.7          3.2           1.3          0.2     Iris-setosa\n",
            "3             4.6          3.1           1.5          0.2     Iris-setosa\n",
            "4             5.0          3.6           1.4          0.2     Iris-setosa\n",
            "..            ...          ...           ...          ...             ...\n",
            "145           6.7          3.0           5.2          2.3  Iris-virginica\n",
            "146           6.3          2.5           5.0          1.9  Iris-virginica\n",
            "147           6.5          3.0           5.2          2.0  Iris-virginica\n",
            "148           6.2          3.4           5.4          2.3  Iris-virginica\n",
            "149           5.9          3.0           5.1          1.8  Iris-virginica\n",
            "\n",
            "[150 rows x 5 columns]\n"
          ],
          "name": "stdout"
        }
      ]
    },
    {
      "cell_type": "markdown",
      "metadata": {
        "id": "-9mIRkifW3uE",
        "colab_type": "text"
      },
      "source": [
        "Split the data into two arrays features: measurements & Targets: species names"
      ]
    },
    {
      "cell_type": "code",
      "metadata": {
        "id": "jYl2y6yuW_Tm",
        "colab_type": "code",
        "colab": {}
      },
      "source": [
        "import numpy as np\n",
        "targets = data['species'].to_numpy()\n",
        "features = data[['sepal_length', 'sepal_width',\n",
        "                'petal_length', 'petal_width']].to_numpy()\n"
      ],
      "execution_count": 0,
      "outputs": []
    },
    {
      "cell_type": "markdown",
      "metadata": {
        "id": "K1Z7X_BugLll",
        "colab_type": "text"
      },
      "source": [
        "randomly split the data using SKlearn train_test_split method"
      ]
    },
    {
      "cell_type": "code",
      "metadata": {
        "id": "kVnb6HgBgXep",
        "colab_type": "code",
        "colab": {}
      },
      "source": [
        "from sklearn.model_selection import train_test_split\n",
        "\n",
        "train_data, test_data, train_targets, test_targets = train_test_split(features, targets, test_size=.3)"
      ],
      "execution_count": 0,
      "outputs": []
    },
    {
      "cell_type": "markdown",
      "metadata": {
        "id": "XS00_A1vitcH",
        "colab_type": "text"
      },
      "source": [
        "Create a KnnClassifier\n",
        "\n"
      ]
    },
    {
      "cell_type": "code",
      "metadata": {
        "id": "FmRu-ndVdmFC",
        "colab_type": "code",
        "outputId": "5740bc5d-ee79-4f43-ecce-9a19640feac4",
        "colab": {
          "base_uri": "https://localhost:8080/",
          "height": 68
        }
      },
      "source": [
        "from collections import Counter\n",
        "\n",
        "class KnnClassifier:\n",
        "  def fit(self, data, targets):\n",
        "    self.data = data\n",
        "    self.targets = targets\n",
        "  \n",
        "  #####\n",
        "  # Calculates the distance between two points\n",
        "  def calcDistance(self, x, y):\n",
        "    return np.linalg.norm(x-y)\n",
        "\n",
        "  ####\n",
        "  # Finds the nearest neighbor based on target data\n",
        "  def findNearestNeighbor(self, data, k):\n",
        "    # Compare data with all of my stored self.data and the the 'k' amount of nearest neighbors\n",
        "    # Create an array of distances from data\n",
        "    distances = []\n",
        "    for trainData in self.data:\n",
        "      distances.append(self.calcDistance(trainData, data))\n",
        "\n",
        "    # Find the index's of the 'k' amount of closest members\n",
        "    sorted_indexes = np.argsort(distances)[:k]\n",
        "\n",
        "    # Create nearest neighbors array\n",
        "    nearestNeighbors = []\n",
        "    for index in sorted_indexes:\n",
        "      nearestNeighbors.append(self.targets[index])\n",
        "\n",
        "    # Count to see which one is the most common and return\n",
        "    counts = Counter(nearestNeighbors)\n",
        "\n",
        "    return counts.most_common(1)[0][0]\n",
        "    \n",
        "  def predict(self, data, k):\n",
        "    self.kNearest = k\n",
        "    self.testData = data\n",
        "    predictionArray = []\n",
        "    # Find the nearest neighbor for each Set of data\n",
        "    for currentData in self.testData:\n",
        "      predictionArray.append(self.findNearestNeighbor(currentData, k))\n",
        "\n",
        "    return predictionArray\n",
        "\n",
        "\n",
        "print(test_data[:2])\n",
        "print(test_targets[:2])"
      ],
      "execution_count": 4,
      "outputs": [
        {
          "output_type": "stream",
          "text": [
            "[[7.7 2.8 6.7 2. ]\n",
            " [6.  2.7 5.1 1.6]]\n",
            "['Iris-virginica' 'Iris-versicolor']\n"
          ],
          "name": "stdout"
        }
      ]
    },
    {
      "cell_type": "markdown",
      "metadata": {
        "id": "VBmzACXcedJK",
        "colab_type": "text"
      },
      "source": [
        "Test the Classifier\n"
      ]
    },
    {
      "cell_type": "code",
      "metadata": {
        "id": "1rMohxpwi0zA",
        "colab_type": "code",
        "outputId": "a01d985c-fcf3-403f-cd48-baf5511462a1",
        "colab": {
          "base_uri": "https://localhost:8080/",
          "height": 34
        }
      },
      "source": [
        "classifier = KnnClassifier()\n",
        "classifier.fit(train_data, train_targets)\n",
        "\n",
        "predictions = classifier.predict(test_data, 3)\n",
        "predictions\n",
        "\n",
        "numCorrect = 0\n",
        "\n",
        "for i in range(len(predictions)):\n",
        "  if predictions[i] == test_targets[i]:\n",
        "    numCorrect += 1\n",
        "\n",
        "accuracy = (numCorrect / len(predictions)) * 100\n",
        "\n",
        "print(accuracy)\n",
        "\n",
        "del predictions, accuracy, numCorrect"
      ],
      "execution_count": 5,
      "outputs": [
        {
          "output_type": "stream",
          "text": [
            "97.77777777777777\n"
          ],
          "name": "stdout"
        }
      ]
    },
    {
      "cell_type": "markdown",
      "metadata": {
        "id": "bvPtqGjncLKJ",
        "colab_type": "text"
      },
      "source": [
        "Compare to Off the shelve implementation!\n"
      ]
    },
    {
      "cell_type": "code",
      "metadata": {
        "id": "0sCABwCfcPRG",
        "colab_type": "code",
        "outputId": "519d220d-97bf-4c4d-883b-74cdf19e0de7",
        "colab": {
          "base_uri": "https://localhost:8080/",
          "height": 34
        }
      },
      "source": [
        "from sklearn.neighbors import KNeighborsClassifier\n",
        "\n",
        "classifier = KNeighborsClassifier(n_neighbors=3)\n",
        "classifier.fit(train_data, train_targets)\n",
        "predictions = classifier.predict(test_data)\n",
        "\n",
        "numCorrect = 0\n",
        "\n",
        "for i in range(len(predictions)):\n",
        "  if predictions[i] == test_targets[i]:\n",
        "    numCorrect += 1\n",
        "\n",
        "accuracy = (numCorrect / len(predictions)) * 100\n",
        "\n",
        "print(accuracy)"
      ],
      "execution_count": 6,
      "outputs": [
        {
          "output_type": "stream",
          "text": [
            "97.77777777777777\n"
          ],
          "name": "stdout"
        }
      ]
    },
    {
      "cell_type": "markdown",
      "metadata": {
        "id": "PBWr1F9B-lJ2",
        "colab_type": "text"
      },
      "source": [
        "Not sure why But I found some Covid-19 Data that im going to run through the classifier... Doesn't make a whole lot of sense to do this but I thought it would be good practice in getting a larger dataset loaded in here! And to be honest I thought it'd be fun!"
      ]
    },
    {
      "cell_type": "code",
      "metadata": {
        "id": "0BsnZwCL-kzh",
        "colab_type": "code",
        "colab": {
          "base_uri": "https://localhost:8080/",
          "height": 609
        },
        "outputId": "2259336c-f10b-4b36-fe90-58a53e685005"
      },
      "source": [
        "url = \"https://covid.ourworldindata.org/data/owid-covid-data.csv\"\n",
        "data = pd.read_csv(url)\n",
        "\n",
        "data"
      ],
      "execution_count": 7,
      "outputs": [
        {
          "output_type": "execute_result",
          "data": {
            "text/html": [
              "<div>\n",
              "<style scoped>\n",
              "    .dataframe tbody tr th:only-of-type {\n",
              "        vertical-align: middle;\n",
              "    }\n",
              "\n",
              "    .dataframe tbody tr th {\n",
              "        vertical-align: top;\n",
              "    }\n",
              "\n",
              "    .dataframe thead th {\n",
              "        text-align: right;\n",
              "    }\n",
              "</style>\n",
              "<table border=\"1\" class=\"dataframe\">\n",
              "  <thead>\n",
              "    <tr style=\"text-align: right;\">\n",
              "      <th></th>\n",
              "      <th>iso_code</th>\n",
              "      <th>location</th>\n",
              "      <th>date</th>\n",
              "      <th>total_cases</th>\n",
              "      <th>new_cases</th>\n",
              "      <th>total_deaths</th>\n",
              "      <th>new_deaths</th>\n",
              "      <th>total_cases_per_million</th>\n",
              "      <th>new_cases_per_million</th>\n",
              "      <th>total_deaths_per_million</th>\n",
              "      <th>new_deaths_per_million</th>\n",
              "      <th>total_tests</th>\n",
              "      <th>new_tests</th>\n",
              "      <th>total_tests_per_thousand</th>\n",
              "      <th>new_tests_per_thousand</th>\n",
              "      <th>tests_units</th>\n",
              "    </tr>\n",
              "  </thead>\n",
              "  <tbody>\n",
              "    <tr>\n",
              "      <th>0</th>\n",
              "      <td>ABW</td>\n",
              "      <td>Aruba</td>\n",
              "      <td>2020-03-13</td>\n",
              "      <td>2</td>\n",
              "      <td>2</td>\n",
              "      <td>0</td>\n",
              "      <td>0</td>\n",
              "      <td>18.733</td>\n",
              "      <td>18.733</td>\n",
              "      <td>0.0</td>\n",
              "      <td>0.0</td>\n",
              "      <td>NaN</td>\n",
              "      <td>NaN</td>\n",
              "      <td>NaN</td>\n",
              "      <td>NaN</td>\n",
              "      <td>NaN</td>\n",
              "    </tr>\n",
              "    <tr>\n",
              "      <th>1</th>\n",
              "      <td>ABW</td>\n",
              "      <td>Aruba</td>\n",
              "      <td>2020-03-20</td>\n",
              "      <td>4</td>\n",
              "      <td>2</td>\n",
              "      <td>0</td>\n",
              "      <td>0</td>\n",
              "      <td>37.465</td>\n",
              "      <td>18.733</td>\n",
              "      <td>0.0</td>\n",
              "      <td>0.0</td>\n",
              "      <td>NaN</td>\n",
              "      <td>NaN</td>\n",
              "      <td>NaN</td>\n",
              "      <td>NaN</td>\n",
              "      <td>NaN</td>\n",
              "    </tr>\n",
              "    <tr>\n",
              "      <th>2</th>\n",
              "      <td>ABW</td>\n",
              "      <td>Aruba</td>\n",
              "      <td>2020-03-24</td>\n",
              "      <td>12</td>\n",
              "      <td>8</td>\n",
              "      <td>0</td>\n",
              "      <td>0</td>\n",
              "      <td>112.395</td>\n",
              "      <td>74.930</td>\n",
              "      <td>0.0</td>\n",
              "      <td>0.0</td>\n",
              "      <td>NaN</td>\n",
              "      <td>NaN</td>\n",
              "      <td>NaN</td>\n",
              "      <td>NaN</td>\n",
              "      <td>NaN</td>\n",
              "    </tr>\n",
              "    <tr>\n",
              "      <th>3</th>\n",
              "      <td>ABW</td>\n",
              "      <td>Aruba</td>\n",
              "      <td>2020-03-25</td>\n",
              "      <td>17</td>\n",
              "      <td>5</td>\n",
              "      <td>0</td>\n",
              "      <td>0</td>\n",
              "      <td>159.227</td>\n",
              "      <td>46.831</td>\n",
              "      <td>0.0</td>\n",
              "      <td>0.0</td>\n",
              "      <td>NaN</td>\n",
              "      <td>NaN</td>\n",
              "      <td>NaN</td>\n",
              "      <td>NaN</td>\n",
              "      <td>NaN</td>\n",
              "    </tr>\n",
              "    <tr>\n",
              "      <th>4</th>\n",
              "      <td>ABW</td>\n",
              "      <td>Aruba</td>\n",
              "      <td>2020-03-26</td>\n",
              "      <td>19</td>\n",
              "      <td>2</td>\n",
              "      <td>0</td>\n",
              "      <td>0</td>\n",
              "      <td>177.959</td>\n",
              "      <td>18.733</td>\n",
              "      <td>0.0</td>\n",
              "      <td>0.0</td>\n",
              "      <td>NaN</td>\n",
              "      <td>NaN</td>\n",
              "      <td>NaN</td>\n",
              "      <td>NaN</td>\n",
              "      <td>NaN</td>\n",
              "    </tr>\n",
              "    <tr>\n",
              "      <th>...</th>\n",
              "      <td>...</td>\n",
              "      <td>...</td>\n",
              "      <td>...</td>\n",
              "      <td>...</td>\n",
              "      <td>...</td>\n",
              "      <td>...</td>\n",
              "      <td>...</td>\n",
              "      <td>...</td>\n",
              "      <td>...</td>\n",
              "      <td>...</td>\n",
              "      <td>...</td>\n",
              "      <td>...</td>\n",
              "      <td>...</td>\n",
              "      <td>...</td>\n",
              "      <td>...</td>\n",
              "      <td>...</td>\n",
              "    </tr>\n",
              "    <tr>\n",
              "      <th>14294</th>\n",
              "      <td>NaN</td>\n",
              "      <td>International</td>\n",
              "      <td>2020-02-28</td>\n",
              "      <td>705</td>\n",
              "      <td>0</td>\n",
              "      <td>4</td>\n",
              "      <td>0</td>\n",
              "      <td>NaN</td>\n",
              "      <td>NaN</td>\n",
              "      <td>NaN</td>\n",
              "      <td>NaN</td>\n",
              "      <td>NaN</td>\n",
              "      <td>NaN</td>\n",
              "      <td>NaN</td>\n",
              "      <td>NaN</td>\n",
              "      <td>NaN</td>\n",
              "    </tr>\n",
              "    <tr>\n",
              "      <th>14295</th>\n",
              "      <td>NaN</td>\n",
              "      <td>International</td>\n",
              "      <td>2020-02-29</td>\n",
              "      <td>705</td>\n",
              "      <td>0</td>\n",
              "      <td>6</td>\n",
              "      <td>2</td>\n",
              "      <td>NaN</td>\n",
              "      <td>NaN</td>\n",
              "      <td>NaN</td>\n",
              "      <td>NaN</td>\n",
              "      <td>NaN</td>\n",
              "      <td>NaN</td>\n",
              "      <td>NaN</td>\n",
              "      <td>NaN</td>\n",
              "      <td>NaN</td>\n",
              "    </tr>\n",
              "    <tr>\n",
              "      <th>14296</th>\n",
              "      <td>NaN</td>\n",
              "      <td>International</td>\n",
              "      <td>2020-03-01</td>\n",
              "      <td>705</td>\n",
              "      <td>0</td>\n",
              "      <td>6</td>\n",
              "      <td>0</td>\n",
              "      <td>NaN</td>\n",
              "      <td>NaN</td>\n",
              "      <td>NaN</td>\n",
              "      <td>NaN</td>\n",
              "      <td>NaN</td>\n",
              "      <td>NaN</td>\n",
              "      <td>NaN</td>\n",
              "      <td>NaN</td>\n",
              "      <td>NaN</td>\n",
              "    </tr>\n",
              "    <tr>\n",
              "      <th>14297</th>\n",
              "      <td>NaN</td>\n",
              "      <td>International</td>\n",
              "      <td>2020-03-02</td>\n",
              "      <td>705</td>\n",
              "      <td>0</td>\n",
              "      <td>6</td>\n",
              "      <td>0</td>\n",
              "      <td>NaN</td>\n",
              "      <td>NaN</td>\n",
              "      <td>NaN</td>\n",
              "      <td>NaN</td>\n",
              "      <td>NaN</td>\n",
              "      <td>NaN</td>\n",
              "      <td>NaN</td>\n",
              "      <td>NaN</td>\n",
              "      <td>NaN</td>\n",
              "    </tr>\n",
              "    <tr>\n",
              "      <th>14298</th>\n",
              "      <td>NaN</td>\n",
              "      <td>International</td>\n",
              "      <td>2020-03-10</td>\n",
              "      <td>696</td>\n",
              "      <td>-9</td>\n",
              "      <td>7</td>\n",
              "      <td>1</td>\n",
              "      <td>NaN</td>\n",
              "      <td>NaN</td>\n",
              "      <td>NaN</td>\n",
              "      <td>NaN</td>\n",
              "      <td>NaN</td>\n",
              "      <td>NaN</td>\n",
              "      <td>NaN</td>\n",
              "      <td>NaN</td>\n",
              "      <td>NaN</td>\n",
              "    </tr>\n",
              "  </tbody>\n",
              "</table>\n",
              "<p>14299 rows × 16 columns</p>\n",
              "</div>"
            ],
            "text/plain": [
              "      iso_code       location  ... new_tests_per_thousand  tests_units\n",
              "0          ABW          Aruba  ...                    NaN          NaN\n",
              "1          ABW          Aruba  ...                    NaN          NaN\n",
              "2          ABW          Aruba  ...                    NaN          NaN\n",
              "3          ABW          Aruba  ...                    NaN          NaN\n",
              "4          ABW          Aruba  ...                    NaN          NaN\n",
              "...        ...            ...  ...                    ...          ...\n",
              "14294      NaN  International  ...                    NaN          NaN\n",
              "14295      NaN  International  ...                    NaN          NaN\n",
              "14296      NaN  International  ...                    NaN          NaN\n",
              "14297      NaN  International  ...                    NaN          NaN\n",
              "14298      NaN  International  ...                    NaN          NaN\n",
              "\n",
              "[14299 rows x 16 columns]"
            ]
          },
          "metadata": {
            "tags": []
          },
          "execution_count": 7
        }
      ]
    },
    {
      "cell_type": "code",
      "metadata": {
        "id": "rQ62WwpJ_Fhm",
        "colab_type": "code",
        "colab": {
          "base_uri": "https://localhost:8080/",
          "height": 136
        },
        "outputId": "d67c0a61-9cd5-4747-e425-5460345b9678"
      },
      "source": [
        "targets = data['location'].to_numpy()\n",
        "features = data[['total_cases', 'new_cases',\n",
        "                'total_deaths', 'new_deaths']].to_numpy()\n",
        "\n",
        "train_data, test_data, train_targets, test_targets = train_test_split(features, targets, test_size=.3)\n",
        "\n",
        "print(train_data)\n",
        "\n"
      ],
      "execution_count": 18,
      "outputs": [
        {
          "output_type": "stream",
          "text": [
            "[[655   0  20   0]\n",
            " [  0   0   0   0]\n",
            " [  0   0   0   0]\n",
            " ...\n",
            " [126   2   3   0]\n",
            " [  3   0   1   0]\n",
            " [174  30   2   0]]\n"
          ],
          "name": "stdout"
        }
      ]
    },
    {
      "cell_type": "code",
      "metadata": {
        "id": "R5c9h0aUAH8z",
        "colab_type": "code",
        "colab": {}
      },
      "source": [
        "classifier = KnnClassifier()\n",
        "classifier.fit(train_data, train_targets)\n",
        "\n",
        "predictions = classifier.predict(test_data, 3)\n"
      ],
      "execution_count": 0,
      "outputs": []
    },
    {
      "cell_type": "code",
      "metadata": {
        "id": "9FtT1G0hBRd_",
        "colab_type": "code",
        "colab": {
          "base_uri": "https://localhost:8080/",
          "height": 68
        },
        "outputId": "45827931-e288-4b8e-b715-f96591c05e74"
      },
      "source": [
        "numCorrect = 0\n",
        "\n",
        "for i in range(len(predictions)):\n",
        "  if predictions[i] == test_targets[i]:\n",
        "    numCorrect += 1\n",
        "\n",
        "accuracy = (numCorrect / len(predictions)) * 100\n",
        "\n",
        "print(len(predictions))\n",
        "print(numCorrect)\n",
        "print(accuracy)"
      ],
      "execution_count": 22,
      "outputs": [
        {
          "output_type": "stream",
          "text": [
            "4290\n",
            "486\n",
            "11.328671328671328\n"
          ],
          "name": "stdout"
        }
      ]
    },
    {
      "cell_type": "markdown",
      "metadata": {
        "id": "17x_4zlcBmar",
        "colab_type": "text"
      },
      "source": [
        "As you can see... This is not good at predicting what country based on amount infected... But logically it really shouldn’t So I'm counting this as a win. It is cool that I can take this same Knn Classifier and run it with different kinds of data and it still works. With my implementation it took about 8 minutes to run \n",
        "\n",
        "Now to try it with the off the shelve implementation to see if it runs faster"
      ]
    },
    {
      "cell_type": "code",
      "metadata": {
        "id": "y1z_AzFGCChS",
        "colab_type": "code",
        "colab": {
          "base_uri": "https://localhost:8080/",
          "height": 34
        },
        "outputId": "55cac4c1-0eeb-4f9e-b173-d6ea7addac86"
      },
      "source": [
        "classifier = KNeighborsClassifier(n_neighbors=3)\n",
        "classifier.fit(train_data, train_targets)\n",
        "predictions = classifier.predict(test_data)\n",
        "\n",
        "numCorrect = 0\n",
        "\n",
        "for i in range(len(predictions)):\n",
        "  if predictions[i] == test_targets[i]:\n",
        "    numCorrect += 1\n",
        "\n",
        "accuracy = (numCorrect / len(predictions)) * 100\n",
        "\n",
        "print(accuracy)"
      ],
      "execution_count": 24,
      "outputs": [
        {
          "output_type": "stream",
          "text": [
            "11.375291375291376\n"
          ],
          "name": "stdout"
        }
      ]
    },
    {
      "cell_type": "markdown",
      "metadata": {
        "id": "5pSsif2Vbq8Q",
        "colab_type": "text"
      },
      "source": [
        "Basically Instant. I assume this is because the calculations for distance are being done with a compiled C library. It could also do some things to not have to calculate all of the distances even when it is super far away.... But im not sure.. Super interesting though."
      ]
    }
  ]
}