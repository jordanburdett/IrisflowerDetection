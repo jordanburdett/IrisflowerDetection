{
  "nbformat": 4,
  "nbformat_minor": 0,
  "metadata": {
    "colab": {
      "name": "More_Interesting_Datasets.ipynb",
      "provenance": [],
      "authorship_tag": "ABX9TyOK/fDlY23FMHetDr6o0iR0",
      "include_colab_link": true
    },
    "kernelspec": {
      "name": "python3",
      "display_name": "Python 3"
    }
  },
  "cells": [
    {
      "cell_type": "markdown",
      "metadata": {
        "id": "view-in-github",
        "colab_type": "text"
      },
      "source": [
        "<a href=\"https://colab.research.google.com/github/jordanburdett/IrisflowerDetection/blob/master/More_Interesting_Datasets.ipynb\" target=\"_parent\"><img src=\"https://colab.research.google.com/assets/colab-badge.svg\" alt=\"Open In Colab\"/></a>"
      ]
    },
    {
      "cell_type": "markdown",
      "metadata": {
        "id": "TjtQ3DsTPbOK",
        "colab_type": "text"
      },
      "source": [
        "Import all libraries that are going to be needed.\n",
        "\n",
        "\n",
        "---\n",
        "\n"
      ]
    },
    {
      "cell_type": "code",
      "metadata": {
        "id": "1RA-epsrPBa4",
        "colab_type": "code",
        "colab": {}
      },
      "source": [
        "import pandas as pd\n",
        "import numpy as np \n",
        "from sklearn.neighbors import KNeighborsClassifier\n",
        "from sklearn.neighbors import KNeighborsRegressor as classifierRegr\n",
        "from sklearn.model_selection import train_test_split\n",
        "from collections import Counter\n",
        "from sklearn.metrics import explained_variance_score as sk"
      ],
      "execution_count": 0,
      "outputs": []
    },
    {
      "cell_type": "markdown",
      "metadata": {
        "id": "CvYUglR4PkEE",
        "colab_type": "text"
      },
      "source": [
        "Get all the data that will be required throughout the assignment. \n",
        "\n",
        "---\n",
        "\n",
        "\n",
        "\n",
        "1.   carData: car data from https://archive.ics.uci.edu/ml/machine-learning-databases/car/car.data\n",
        "2.   carMPG: information about MPG from https://archive.ics.uci.edu/ml/machine-learning-databases/auto-mpg/auto-mpg.data\n",
        "3.   classPerformance: Information regarding performance for two classes. this data is located in two csv files located in my machine learning folder on my local machine.\n",
        "\n"
      ]
    },
    {
      "cell_type": "code",
      "metadata": {
        "id": "_BTYJJPaQi13",
        "colab_type": "code",
        "colab": {}
      },
      "source": [
        "\n",
        "names = [\"price\", \"maint\", \"doors\", \"numPeople\", \"cargoSpace\", \"safteyMeasure\", \"acceptable\"]\n",
        "carData = pd.read_csv(\"https://archive.ics.uci.edu/ml/machine-learning-databases/car/car.data\", header=None, skipinitialspace=True, names=names, na_values=[\"?\"])\n",
        "\n",
        "names = [\"mpg\", \"cylinders\", \"displacement\", \"horsepower\", \"weight\", \"acceleration\", \"model\", \"origin\", \"carname\"]\n",
        "carMPG = pd.read_csv(\"https://archive.ics.uci.edu/ml/machine-learning-databases/auto-mpg/auto-mpg.data\", header=None, names=names, na_values=[\"?\"], sep=\"\\s+\")\n",
        "\n",
        "classPerformanceMath = pd.read_csv(\"https://raw.githubusercontent.com/jordanburdett/IrisflowerDetection/master/student-mat.csv\", delimiter=\";\", na_values=[\"?\"])\n",
        "\n",
        "classPerformancePort = pd.read_csv(\"https://raw.githubusercontent.com/jordanburdett/IrisflowerDetection/master/student-por.csv\", delimiter=\";\", na_values=[\"?\"])\n",
        "\n"
      ],
      "execution_count": 0,
      "outputs": []
    },
    {
      "cell_type": "markdown",
      "metadata": {
        "id": "K08ByebhPl3V",
        "colab_type": "text"
      },
      "source": [
        "The target is the last column where you classify the car as acceptable, unacceptable, good, or very good. Please note that this dataset contains categorical (non-numeric) data.\n",
        "\n",
        "---\n",
        "\n",
        "First things first we need to make sure that we have no missing values for our carData."
      ]
    },
    {
      "cell_type": "code",
      "metadata": {
        "id": "2wrVtWv6hUuC",
        "colab_type": "code",
        "colab": {
          "base_uri": "https://localhost:8080/",
          "height": 153
        },
        "outputId": "bc3695f6-f6cf-4f41-ebd5-e54901cc5d2e"
      },
      "source": [
        "carData.isna().any()"
      ],
      "execution_count": 295,
      "outputs": [
        {
          "output_type": "execute_result",
          "data": {
            "text/plain": [
              "price            False\n",
              "maint            False\n",
              "doors            False\n",
              "numPeople        False\n",
              "cargoSpace       False\n",
              "safteyMeasure    False\n",
              "acceptable       False\n",
              "dtype: bool"
            ]
          },
          "metadata": {
            "tags": []
          },
          "execution_count": 295
        }
      ]
    },
    {
      "cell_type": "markdown",
      "metadata": {
        "id": "otGQpaLqQYy_",
        "colab_type": "text"
      },
      "source": [
        "Good! no NaN values!\n",
        "\n",
        "---\n",
        "No need to handle the NaN's lets check to see if we need to change any non numerical values\n"
      ]
    },
    {
      "cell_type": "code",
      "metadata": {
        "id": "bYkFNm5iQerk",
        "colab_type": "code",
        "colab": {
          "base_uri": "https://localhost:8080/",
          "height": 255
        },
        "outputId": "6f26aa64-b4e7-4135-cddf-aba33e50868e"
      },
      "source": [
        "print (carData.head())\n",
        "\n",
        "carData.dtypes"
      ],
      "execution_count": 296,
      "outputs": [
        {
          "output_type": "stream",
          "text": [
            "   price  maint doors numPeople cargoSpace safteyMeasure acceptable\n",
            "0  vhigh  vhigh     2         2      small           low      unacc\n",
            "1  vhigh  vhigh     2         2      small           med      unacc\n",
            "2  vhigh  vhigh     2         2      small          high      unacc\n",
            "3  vhigh  vhigh     2         2        med           low      unacc\n",
            "4  vhigh  vhigh     2         2        med           med      unacc\n"
          ],
          "name": "stdout"
        },
        {
          "output_type": "execute_result",
          "data": {
            "text/plain": [
              "price            object\n",
              "maint            object\n",
              "doors            object\n",
              "numPeople        object\n",
              "cargoSpace       object\n",
              "safteyMeasure    object\n",
              "acceptable       object\n",
              "dtype: object"
            ]
          },
          "metadata": {
            "tags": []
          },
          "execution_count": 296
        }
      ]
    },
    {
      "cell_type": "code",
      "metadata": {
        "id": "yKHh-v2ORYQ-",
        "colab_type": "code",
        "colab": {}
      },
      "source": [
        "# Everything is showing as an object.... Cause the data for persons has a 5more option..... ugh okay lets make it a integer.\n",
        "\n",
        "def makeCatCodes(data):\n",
        "  for label,dtype in data.dtypes.items():\n",
        "    if dtype == object:\n",
        "        print(label)\n",
        "        # set the dataframe to be a category\n",
        "        data[label] = data[label].astype('category')\n",
        "\n",
        "        # create new row using cat codes\n",
        "        data[\"{}_cat\".format(label)] = data[label].cat.codes\n",
        "        \n",
        "  return data\n"
      ],
      "execution_count": 0,
      "outputs": []
    },
    {
      "cell_type": "code",
      "metadata": {
        "id": "BVLgebiFSnQB",
        "colab_type": "code",
        "colab": {
          "base_uri": "https://localhost:8080/",
          "height": 323
        },
        "outputId": "f02f48c1-92f3-4b2a-81a8-e23cd8a1558f"
      },
      "source": [
        "# use the new function made!\n",
        "\n",
        "carData = makeCatCodes(carData)\n",
        "\n",
        "carData.head()\n"
      ],
      "execution_count": 298,
      "outputs": [
        {
          "output_type": "stream",
          "text": [
            "price\n",
            "maint\n",
            "doors\n",
            "numPeople\n",
            "cargoSpace\n",
            "safteyMeasure\n",
            "acceptable\n"
          ],
          "name": "stdout"
        },
        {
          "output_type": "execute_result",
          "data": {
            "text/html": [
              "<div>\n",
              "<style scoped>\n",
              "    .dataframe tbody tr th:only-of-type {\n",
              "        vertical-align: middle;\n",
              "    }\n",
              "\n",
              "    .dataframe tbody tr th {\n",
              "        vertical-align: top;\n",
              "    }\n",
              "\n",
              "    .dataframe thead th {\n",
              "        text-align: right;\n",
              "    }\n",
              "</style>\n",
              "<table border=\"1\" class=\"dataframe\">\n",
              "  <thead>\n",
              "    <tr style=\"text-align: right;\">\n",
              "      <th></th>\n",
              "      <th>price</th>\n",
              "      <th>maint</th>\n",
              "      <th>doors</th>\n",
              "      <th>numPeople</th>\n",
              "      <th>cargoSpace</th>\n",
              "      <th>safteyMeasure</th>\n",
              "      <th>acceptable</th>\n",
              "      <th>price_cat</th>\n",
              "      <th>maint_cat</th>\n",
              "      <th>doors_cat</th>\n",
              "      <th>numPeople_cat</th>\n",
              "      <th>cargoSpace_cat</th>\n",
              "      <th>safteyMeasure_cat</th>\n",
              "      <th>acceptable_cat</th>\n",
              "    </tr>\n",
              "  </thead>\n",
              "  <tbody>\n",
              "    <tr>\n",
              "      <th>0</th>\n",
              "      <td>vhigh</td>\n",
              "      <td>vhigh</td>\n",
              "      <td>2</td>\n",
              "      <td>2</td>\n",
              "      <td>small</td>\n",
              "      <td>low</td>\n",
              "      <td>unacc</td>\n",
              "      <td>3</td>\n",
              "      <td>3</td>\n",
              "      <td>0</td>\n",
              "      <td>0</td>\n",
              "      <td>2</td>\n",
              "      <td>1</td>\n",
              "      <td>2</td>\n",
              "    </tr>\n",
              "    <tr>\n",
              "      <th>1</th>\n",
              "      <td>vhigh</td>\n",
              "      <td>vhigh</td>\n",
              "      <td>2</td>\n",
              "      <td>2</td>\n",
              "      <td>small</td>\n",
              "      <td>med</td>\n",
              "      <td>unacc</td>\n",
              "      <td>3</td>\n",
              "      <td>3</td>\n",
              "      <td>0</td>\n",
              "      <td>0</td>\n",
              "      <td>2</td>\n",
              "      <td>2</td>\n",
              "      <td>2</td>\n",
              "    </tr>\n",
              "    <tr>\n",
              "      <th>2</th>\n",
              "      <td>vhigh</td>\n",
              "      <td>vhigh</td>\n",
              "      <td>2</td>\n",
              "      <td>2</td>\n",
              "      <td>small</td>\n",
              "      <td>high</td>\n",
              "      <td>unacc</td>\n",
              "      <td>3</td>\n",
              "      <td>3</td>\n",
              "      <td>0</td>\n",
              "      <td>0</td>\n",
              "      <td>2</td>\n",
              "      <td>0</td>\n",
              "      <td>2</td>\n",
              "    </tr>\n",
              "    <tr>\n",
              "      <th>3</th>\n",
              "      <td>vhigh</td>\n",
              "      <td>vhigh</td>\n",
              "      <td>2</td>\n",
              "      <td>2</td>\n",
              "      <td>med</td>\n",
              "      <td>low</td>\n",
              "      <td>unacc</td>\n",
              "      <td>3</td>\n",
              "      <td>3</td>\n",
              "      <td>0</td>\n",
              "      <td>0</td>\n",
              "      <td>1</td>\n",
              "      <td>1</td>\n",
              "      <td>2</td>\n",
              "    </tr>\n",
              "    <tr>\n",
              "      <th>4</th>\n",
              "      <td>vhigh</td>\n",
              "      <td>vhigh</td>\n",
              "      <td>2</td>\n",
              "      <td>2</td>\n",
              "      <td>med</td>\n",
              "      <td>med</td>\n",
              "      <td>unacc</td>\n",
              "      <td>3</td>\n",
              "      <td>3</td>\n",
              "      <td>0</td>\n",
              "      <td>0</td>\n",
              "      <td>1</td>\n",
              "      <td>2</td>\n",
              "      <td>2</td>\n",
              "    </tr>\n",
              "  </tbody>\n",
              "</table>\n",
              "</div>"
            ],
            "text/plain": [
              "   price  maint doors  ... cargoSpace_cat safteyMeasure_cat acceptable_cat\n",
              "0  vhigh  vhigh     2  ...              2                 1              2\n",
              "1  vhigh  vhigh     2  ...              2                 2              2\n",
              "2  vhigh  vhigh     2  ...              2                 0              2\n",
              "3  vhigh  vhigh     2  ...              1                 1              2\n",
              "4  vhigh  vhigh     2  ...              1                 2              2\n",
              "\n",
              "[5 rows x 14 columns]"
            ]
          },
          "metadata": {
            "tags": []
          },
          "execution_count": 298
        }
      ]
    },
    {
      "cell_type": "markdown",
      "metadata": {
        "id": "-r2vzRR2U32H",
        "colab_type": "text"
      },
      "source": [
        "Good! Now lets take just the numeric data and normalize it."
      ]
    },
    {
      "cell_type": "code",
      "metadata": {
        "id": "pZGA6RkIUeqh",
        "colab_type": "code",
        "colab": {
          "base_uri": "https://localhost:8080/",
          "height": 204
        },
        "outputId": "b9118bfa-f424-4a97-932a-0b053320636a"
      },
      "source": [
        "def normalizeData(data):\n",
        "  return (data - data.mean()) / (data.max() - data.min())\n",
        "\n",
        "features = normalizeData(carData[[\"price_cat\", \"maint_cat\", \"doors_cat\", \"numPeople_cat\", \"cargoSpace_cat\", \"safteyMeasure_cat\"]]).to_numpy()\n",
        "\n",
        "# The target of acceptable does not need to be normalized. This is a target.\n",
        "\n",
        "normalizedCarData.head()"
      ],
      "execution_count": 299,
      "outputs": [
        {
          "output_type": "execute_result",
          "data": {
            "text/html": [
              "<div>\n",
              "<style scoped>\n",
              "    .dataframe tbody tr th:only-of-type {\n",
              "        vertical-align: middle;\n",
              "    }\n",
              "\n",
              "    .dataframe tbody tr th {\n",
              "        vertical-align: top;\n",
              "    }\n",
              "\n",
              "    .dataframe thead th {\n",
              "        text-align: right;\n",
              "    }\n",
              "</style>\n",
              "<table border=\"1\" class=\"dataframe\">\n",
              "  <thead>\n",
              "    <tr style=\"text-align: right;\">\n",
              "      <th></th>\n",
              "      <th>price_cat</th>\n",
              "      <th>maint_cat</th>\n",
              "      <th>doors_cat</th>\n",
              "      <th>numPeople_cat</th>\n",
              "      <th>cargoSpace_cat</th>\n",
              "      <th>safteyMeasure_cat</th>\n",
              "    </tr>\n",
              "  </thead>\n",
              "  <tbody>\n",
              "    <tr>\n",
              "      <th>0</th>\n",
              "      <td>0.5</td>\n",
              "      <td>0.5</td>\n",
              "      <td>-0.5</td>\n",
              "      <td>-0.5</td>\n",
              "      <td>0.5</td>\n",
              "      <td>0.0</td>\n",
              "    </tr>\n",
              "    <tr>\n",
              "      <th>1</th>\n",
              "      <td>0.5</td>\n",
              "      <td>0.5</td>\n",
              "      <td>-0.5</td>\n",
              "      <td>-0.5</td>\n",
              "      <td>0.5</td>\n",
              "      <td>0.5</td>\n",
              "    </tr>\n",
              "    <tr>\n",
              "      <th>2</th>\n",
              "      <td>0.5</td>\n",
              "      <td>0.5</td>\n",
              "      <td>-0.5</td>\n",
              "      <td>-0.5</td>\n",
              "      <td>0.5</td>\n",
              "      <td>-0.5</td>\n",
              "    </tr>\n",
              "    <tr>\n",
              "      <th>3</th>\n",
              "      <td>0.5</td>\n",
              "      <td>0.5</td>\n",
              "      <td>-0.5</td>\n",
              "      <td>-0.5</td>\n",
              "      <td>0.0</td>\n",
              "      <td>0.0</td>\n",
              "    </tr>\n",
              "    <tr>\n",
              "      <th>4</th>\n",
              "      <td>0.5</td>\n",
              "      <td>0.5</td>\n",
              "      <td>-0.5</td>\n",
              "      <td>-0.5</td>\n",
              "      <td>0.0</td>\n",
              "      <td>0.5</td>\n",
              "    </tr>\n",
              "  </tbody>\n",
              "</table>\n",
              "</div>"
            ],
            "text/plain": [
              "   price_cat  maint_cat  ...  cargoSpace_cat  safteyMeasure_cat\n",
              "0        0.5        0.5  ...             0.5                0.0\n",
              "1        0.5        0.5  ...             0.5                0.5\n",
              "2        0.5        0.5  ...             0.5               -0.5\n",
              "3        0.5        0.5  ...             0.0                0.0\n",
              "4        0.5        0.5  ...             0.0                0.5\n",
              "\n",
              "[5 rows x 6 columns]"
            ]
          },
          "metadata": {
            "tags": []
          },
          "execution_count": 299
        }
      ]
    },
    {
      "cell_type": "markdown",
      "metadata": {
        "id": "WqAjg6dEX9P8",
        "colab_type": "text"
      },
      "source": [
        "Data is now in order lets use a classifer from sklearn to test this thing\n",
        "\n",
        "---\n",
        "\n",
        "First use sklearn to split the data randomly and then test it!\n"
      ]
    },
    {
      "cell_type": "code",
      "metadata": {
        "id": "FQbLX98XWhYq",
        "colab_type": "code",
        "colab": {}
      },
      "source": [
        "targets = carData[\"acceptable\"].to_numpy()\n",
        "\n",
        "train_data, test_data, train_targets, test_targets = train_test_split(features, targets, test_size=.3)"
      ],
      "execution_count": 0,
      "outputs": []
    },
    {
      "cell_type": "code",
      "metadata": {
        "id": "Y_MV6GYFYpio",
        "colab_type": "code",
        "colab": {
          "base_uri": "https://localhost:8080/",
          "height": 34
        },
        "outputId": "0b79b923-5aa9-464a-e0da-535f3d6059c4"
      },
      "source": [
        "classifier = KNeighborsClassifier(n_neighbors=1)\n",
        "classifier.fit(train_data, train_targets)\n",
        "predictions = classifier.predict(test_data)\n",
        "\n",
        "numCorrect = 0\n",
        "\n",
        "for i in range(len(predictions)):\n",
        "  if predictions[i] == test_targets[i]:\n",
        "    numCorrect += 1\n",
        "\n",
        "accuracy = (numCorrect / len(predictions)) * 100\n",
        "\n",
        "print(accuracy)"
      ],
      "execution_count": 301,
      "outputs": [
        {
          "output_type": "stream",
          "text": [
            "87.28323699421965\n"
          ],
          "name": "stdout"
        }
      ]
    },
    {
      "cell_type": "markdown",
      "metadata": {
        "id": "wwlQv-WmZpbJ",
        "colab_type": "text"
      },
      "source": [
        "Intersting that the accuracy was the hirest when we just used the closest neighbor to classify! But cool 91%\n",
        "\n",
        "---\n",
        "Moving on to carMPG prediction!\n"
      ]
    },
    {
      "cell_type": "code",
      "metadata": {
        "id": "x5ppJyhqZGbI",
        "colab_type": "code",
        "colab": {
          "base_uri": "https://localhost:8080/",
          "height": 204
        },
        "outputId": "1b2ee9d5-b59d-4628-a4f9-071b94ded6f4"
      },
      "source": [
        "carMPG.head()"
      ],
      "execution_count": 302,
      "outputs": [
        {
          "output_type": "execute_result",
          "data": {
            "text/html": [
              "<div>\n",
              "<style scoped>\n",
              "    .dataframe tbody tr th:only-of-type {\n",
              "        vertical-align: middle;\n",
              "    }\n",
              "\n",
              "    .dataframe tbody tr th {\n",
              "        vertical-align: top;\n",
              "    }\n",
              "\n",
              "    .dataframe thead th {\n",
              "        text-align: right;\n",
              "    }\n",
              "</style>\n",
              "<table border=\"1\" class=\"dataframe\">\n",
              "  <thead>\n",
              "    <tr style=\"text-align: right;\">\n",
              "      <th></th>\n",
              "      <th>mpg</th>\n",
              "      <th>cylinders</th>\n",
              "      <th>displacement</th>\n",
              "      <th>horsepower</th>\n",
              "      <th>weight</th>\n",
              "      <th>acceleration</th>\n",
              "      <th>model</th>\n",
              "      <th>origin</th>\n",
              "      <th>carname</th>\n",
              "    </tr>\n",
              "  </thead>\n",
              "  <tbody>\n",
              "    <tr>\n",
              "      <th>0</th>\n",
              "      <td>18.0</td>\n",
              "      <td>8</td>\n",
              "      <td>307.0</td>\n",
              "      <td>130.0</td>\n",
              "      <td>3504.0</td>\n",
              "      <td>12.0</td>\n",
              "      <td>70</td>\n",
              "      <td>1</td>\n",
              "      <td>chevrolet chevelle malibu</td>\n",
              "    </tr>\n",
              "    <tr>\n",
              "      <th>1</th>\n",
              "      <td>15.0</td>\n",
              "      <td>8</td>\n",
              "      <td>350.0</td>\n",
              "      <td>165.0</td>\n",
              "      <td>3693.0</td>\n",
              "      <td>11.5</td>\n",
              "      <td>70</td>\n",
              "      <td>1</td>\n",
              "      <td>buick skylark 320</td>\n",
              "    </tr>\n",
              "    <tr>\n",
              "      <th>2</th>\n",
              "      <td>18.0</td>\n",
              "      <td>8</td>\n",
              "      <td>318.0</td>\n",
              "      <td>150.0</td>\n",
              "      <td>3436.0</td>\n",
              "      <td>11.0</td>\n",
              "      <td>70</td>\n",
              "      <td>1</td>\n",
              "      <td>plymouth satellite</td>\n",
              "    </tr>\n",
              "    <tr>\n",
              "      <th>3</th>\n",
              "      <td>16.0</td>\n",
              "      <td>8</td>\n",
              "      <td>304.0</td>\n",
              "      <td>150.0</td>\n",
              "      <td>3433.0</td>\n",
              "      <td>12.0</td>\n",
              "      <td>70</td>\n",
              "      <td>1</td>\n",
              "      <td>amc rebel sst</td>\n",
              "    </tr>\n",
              "    <tr>\n",
              "      <th>4</th>\n",
              "      <td>17.0</td>\n",
              "      <td>8</td>\n",
              "      <td>302.0</td>\n",
              "      <td>140.0</td>\n",
              "      <td>3449.0</td>\n",
              "      <td>10.5</td>\n",
              "      <td>70</td>\n",
              "      <td>1</td>\n",
              "      <td>ford torino</td>\n",
              "    </tr>\n",
              "  </tbody>\n",
              "</table>\n",
              "</div>"
            ],
            "text/plain": [
              "    mpg  cylinders  displacement  ...  model  origin                    carname\n",
              "0  18.0          8         307.0  ...     70       1  chevrolet chevelle malibu\n",
              "1  15.0          8         350.0  ...     70       1          buick skylark 320\n",
              "2  18.0          8         318.0  ...     70       1         plymouth satellite\n",
              "3  16.0          8         304.0  ...     70       1              amc rebel sst\n",
              "4  17.0          8         302.0  ...     70       1                ford torino\n",
              "\n",
              "[5 rows x 9 columns]"
            ]
          },
          "metadata": {
            "tags": []
          },
          "execution_count": 302
        }
      ]
    },
    {
      "cell_type": "code",
      "metadata": {
        "id": "hnetBuWPZ5zu",
        "colab_type": "code",
        "colab": {
          "base_uri": "https://localhost:8080/",
          "height": 187
        },
        "outputId": "333fefc1-f39c-4b51-e425-a26fef6b8ace"
      },
      "source": [
        "carMPG.isna().any()"
      ],
      "execution_count": 303,
      "outputs": [
        {
          "output_type": "execute_result",
          "data": {
            "text/plain": [
              "mpg             False\n",
              "cylinders       False\n",
              "displacement    False\n",
              "horsepower       True\n",
              "weight          False\n",
              "acceleration    False\n",
              "model           False\n",
              "origin          False\n",
              "carname         False\n",
              "dtype: bool"
            ]
          },
          "metadata": {
            "tags": []
          },
          "execution_count": 303
        }
      ]
    },
    {
      "cell_type": "code",
      "metadata": {
        "id": "gwt_Nri4Z-WZ",
        "colab_type": "code",
        "colab": {
          "base_uri": "https://localhost:8080/",
          "height": 187
        },
        "outputId": "3f1f5d78-2146-4135-f553-d9664424541a"
      },
      "source": [
        "# Horse power has some NaNs... Im going to take the average and set it for those values that are NaN\n",
        "\n",
        "def replaceNaNAverage(data):\n",
        "  testColumn = data.isna().any()\n",
        "\n",
        "  # Loop through all isNa columns\n",
        "  for columnName, hasNaN in testColumn.items():\n",
        "      if hasNaN:\n",
        "          counts = Counter(data[columnName])\n",
        "          data[columnName] = data[columnName].fillna(counts.most_common(1)[0][0])\n",
        "  return data\n",
        "\n",
        "carMPG = replaceNaNAverage(carMPG)\n",
        "\n",
        "carMPG.isna().any()"
      ],
      "execution_count": 304,
      "outputs": [
        {
          "output_type": "execute_result",
          "data": {
            "text/plain": [
              "mpg             False\n",
              "cylinders       False\n",
              "displacement    False\n",
              "horsepower      False\n",
              "weight          False\n",
              "acceleration    False\n",
              "model           False\n",
              "origin          False\n",
              "carname         False\n",
              "dtype: bool"
            ]
          },
          "metadata": {
            "tags": []
          },
          "execution_count": 304
        }
      ]
    },
    {
      "cell_type": "code",
      "metadata": {
        "id": "ZdfkuajaawUx",
        "colab_type": "code",
        "colab": {
          "base_uri": "https://localhost:8080/",
          "height": 187
        },
        "outputId": "1972d3f3-9006-48e6-fde4-ff6750236b23"
      },
      "source": [
        "carMPG.dtypes"
      ],
      "execution_count": 305,
      "outputs": [
        {
          "output_type": "execute_result",
          "data": {
            "text/plain": [
              "mpg             float64\n",
              "cylinders         int64\n",
              "displacement    float64\n",
              "horsepower      float64\n",
              "weight          float64\n",
              "acceleration    float64\n",
              "model             int64\n",
              "origin            int64\n",
              "carname          object\n",
              "dtype: object"
            ]
          },
          "metadata": {
            "tags": []
          },
          "execution_count": 305
        }
      ]
    },
    {
      "cell_type": "code",
      "metadata": {
        "id": "jKgm_mDwa35W",
        "colab_type": "code",
        "colab": {
          "base_uri": "https://localhost:8080/",
          "height": 204
        },
        "outputId": "d1b46506-7c8c-480c-e26b-042a416c0f8f"
      },
      "source": [
        "targets = carMPG[\"mpg\"].to_numpy()\n",
        "carNames = carMPG[\"carname\"]\n",
        "del carMPG['carname']\n",
        "del carMPG['mpg']\n",
        "features = normalizeData(carMPG)\n",
        "features.head()"
      ],
      "execution_count": 306,
      "outputs": [
        {
          "output_type": "execute_result",
          "data": {
            "text/html": [
              "<div>\n",
              "<style scoped>\n",
              "    .dataframe tbody tr th:only-of-type {\n",
              "        vertical-align: middle;\n",
              "    }\n",
              "\n",
              "    .dataframe tbody tr th {\n",
              "        vertical-align: top;\n",
              "    }\n",
              "\n",
              "    .dataframe thead th {\n",
              "        text-align: right;\n",
              "    }\n",
              "</style>\n",
              "<table border=\"1\" class=\"dataframe\">\n",
              "  <thead>\n",
              "    <tr style=\"text-align: right;\">\n",
              "      <th></th>\n",
              "      <th>cylinders</th>\n",
              "      <th>displacement</th>\n",
              "      <th>horsepower</th>\n",
              "      <th>weight</th>\n",
              "      <th>acceleration</th>\n",
              "      <th>model</th>\n",
              "      <th>origin</th>\n",
              "    </tr>\n",
              "  </thead>\n",
              "  <tbody>\n",
              "    <tr>\n",
              "      <th>0</th>\n",
              "      <td>0.509045</td>\n",
              "      <td>0.293473</td>\n",
              "      <td>0.135023</td>\n",
              "      <td>0.151283</td>\n",
              "      <td>-0.212386</td>\n",
              "      <td>-0.500838</td>\n",
              "      <td>-0.286432</td>\n",
              "    </tr>\n",
              "    <tr>\n",
              "      <th>1</th>\n",
              "      <td>0.509045</td>\n",
              "      <td>0.404584</td>\n",
              "      <td>0.325240</td>\n",
              "      <td>0.204870</td>\n",
              "      <td>-0.242148</td>\n",
              "      <td>-0.500838</td>\n",
              "      <td>-0.286432</td>\n",
              "    </tr>\n",
              "    <tr>\n",
              "      <th>2</th>\n",
              "      <td>0.509045</td>\n",
              "      <td>0.321897</td>\n",
              "      <td>0.243719</td>\n",
              "      <td>0.132003</td>\n",
              "      <td>-0.271910</td>\n",
              "      <td>-0.500838</td>\n",
              "      <td>-0.286432</td>\n",
              "    </tr>\n",
              "    <tr>\n",
              "      <th>3</th>\n",
              "      <td>0.509045</td>\n",
              "      <td>0.285721</td>\n",
              "      <td>0.243719</td>\n",
              "      <td>0.131153</td>\n",
              "      <td>-0.212386</td>\n",
              "      <td>-0.500838</td>\n",
              "      <td>-0.286432</td>\n",
              "    </tr>\n",
              "    <tr>\n",
              "      <th>4</th>\n",
              "      <td>0.509045</td>\n",
              "      <td>0.280553</td>\n",
              "      <td>0.189371</td>\n",
              "      <td>0.135689</td>\n",
              "      <td>-0.301672</td>\n",
              "      <td>-0.500838</td>\n",
              "      <td>-0.286432</td>\n",
              "    </tr>\n",
              "  </tbody>\n",
              "</table>\n",
              "</div>"
            ],
            "text/plain": [
              "   cylinders  displacement  horsepower  ...  acceleration     model    origin\n",
              "0   0.509045      0.293473    0.135023  ...     -0.212386 -0.500838 -0.286432\n",
              "1   0.509045      0.404584    0.325240  ...     -0.242148 -0.500838 -0.286432\n",
              "2   0.509045      0.321897    0.243719  ...     -0.271910 -0.500838 -0.286432\n",
              "3   0.509045      0.285721    0.243719  ...     -0.212386 -0.500838 -0.286432\n",
              "4   0.509045      0.280553    0.189371  ...     -0.301672 -0.500838 -0.286432\n",
              "\n",
              "[5 rows x 7 columns]"
            ]
          },
          "metadata": {
            "tags": []
          },
          "execution_count": 306
        }
      ]
    },
    {
      "cell_type": "code",
      "metadata": {
        "id": "vEmWLYqzbbjz",
        "colab_type": "code",
        "colab": {}
      },
      "source": [
        "train_data, test_data, train_targets, test_targets = train_test_split(features, targets, test_size=.3)"
      ],
      "execution_count": 0,
      "outputs": []
    },
    {
      "cell_type": "code",
      "metadata": {
        "id": "nlY6gAEbk4RB",
        "colab_type": "code",
        "colab": {}
      },
      "source": [
        "classifier = classifierRegr(n_neighbors=6)\n",
        "classifier.fit(train_data, train_targets)\n",
        "predictions = classifier.predict(test_data)\n"
      ],
      "execution_count": 0,
      "outputs": []
    },
    {
      "cell_type": "code",
      "metadata": {
        "id": "-0lr4BTnmHSI",
        "colab_type": "code",
        "colab": {
          "base_uri": "https://localhost:8080/",
          "height": 221
        },
        "outputId": "c0f5d57d-2dd5-49b4-ca68-6334b810153e"
      },
      "source": [
        "import sklearn.metrics as sk\n",
        "\n",
        "# variance score\n",
        "print(\"Variance Score\")\n",
        "print(sk.explained_variance_score(test_targets, predictions))\n",
        "\n",
        "# max error\n",
        "from sklearn.metrics import max_error\n",
        "print(\"max error\")\n",
        "print(max_error(test_targets, predictions))\n",
        "\n",
        "# mean absolute error\n",
        "from sklearn.metrics import mean_absolute_error\n",
        "print(\"mean absolute error\")\n",
        "print(mean_absolute_error(test_targets, predictions))\n",
        "\n",
        "# Mean squared error\n",
        "from sklearn.metrics import mean_squared_error\n",
        "print(\"mean squared error\")\n",
        "print(mean_squared_error(test_targets, predictions))\n",
        "\n",
        "\n",
        "# Mean squared log error\n",
        "print (\"mean squared log error\")\n",
        "print(sk.mean_squared_log_error(test_targets, predictions))\n",
        "\n",
        "# r2 score\n",
        "print (\"r2 score\")\n",
        "print (sk.r2_score(test_targets, predictions))"
      ],
      "execution_count": 309,
      "outputs": [
        {
          "output_type": "stream",
          "text": [
            "Variance Score\n",
            "0.8588379082474534\n",
            "max error\n",
            "8.93333333333333\n",
            "mean absolute error\n",
            "2.1799999999999997\n",
            "mean squared error\n",
            "9.014351851851847\n",
            "mean squared log error\n",
            "0.012166953561829787\n",
            "r2 score\n",
            "0.8559899041608042\n"
          ],
          "name": "stdout"
        }
      ]
    },
    {
      "cell_type": "markdown",
      "metadata": {
        "id": "knf0vIkV7twP",
        "colab_type": "text"
      },
      "source": [
        "First time doing something that involves regression.... Not exactly sure how good This is but max error of 9 seems pretty good!\n",
        "\n",
        "---\n",
        "\n",
        "Moving on to class data!"
      ]
    },
    {
      "cell_type": "code",
      "metadata": {
        "id": "P6HcvuOc8sgP",
        "colab_type": "code",
        "colab": {
          "base_uri": "https://localhost:8080/",
          "height": 224
        },
        "outputId": "4c8b564b-b285-40a5-98bd-656c1dbb59e2"
      },
      "source": [
        "classPerformanceMath.head()"
      ],
      "execution_count": 310,
      "outputs": [
        {
          "output_type": "execute_result",
          "data": {
            "text/html": [
              "<div>\n",
              "<style scoped>\n",
              "    .dataframe tbody tr th:only-of-type {\n",
              "        vertical-align: middle;\n",
              "    }\n",
              "\n",
              "    .dataframe tbody tr th {\n",
              "        vertical-align: top;\n",
              "    }\n",
              "\n",
              "    .dataframe thead th {\n",
              "        text-align: right;\n",
              "    }\n",
              "</style>\n",
              "<table border=\"1\" class=\"dataframe\">\n",
              "  <thead>\n",
              "    <tr style=\"text-align: right;\">\n",
              "      <th></th>\n",
              "      <th>school</th>\n",
              "      <th>sex</th>\n",
              "      <th>age</th>\n",
              "      <th>address</th>\n",
              "      <th>famsize</th>\n",
              "      <th>Pstatus</th>\n",
              "      <th>Medu</th>\n",
              "      <th>Fedu</th>\n",
              "      <th>Mjob</th>\n",
              "      <th>Fjob</th>\n",
              "      <th>reason</th>\n",
              "      <th>guardian</th>\n",
              "      <th>traveltime</th>\n",
              "      <th>studytime</th>\n",
              "      <th>failures</th>\n",
              "      <th>schoolsup</th>\n",
              "      <th>famsup</th>\n",
              "      <th>paid</th>\n",
              "      <th>activities</th>\n",
              "      <th>nursery</th>\n",
              "      <th>higher</th>\n",
              "      <th>internet</th>\n",
              "      <th>romantic</th>\n",
              "      <th>famrel</th>\n",
              "      <th>freetime</th>\n",
              "      <th>goout</th>\n",
              "      <th>Dalc</th>\n",
              "      <th>Walc</th>\n",
              "      <th>health</th>\n",
              "      <th>absences</th>\n",
              "      <th>G1</th>\n",
              "      <th>G2</th>\n",
              "      <th>G3</th>\n",
              "    </tr>\n",
              "  </thead>\n",
              "  <tbody>\n",
              "    <tr>\n",
              "      <th>0</th>\n",
              "      <td>GP</td>\n",
              "      <td>F</td>\n",
              "      <td>18</td>\n",
              "      <td>U</td>\n",
              "      <td>GT3</td>\n",
              "      <td>A</td>\n",
              "      <td>4</td>\n",
              "      <td>4</td>\n",
              "      <td>at_home</td>\n",
              "      <td>teacher</td>\n",
              "      <td>course</td>\n",
              "      <td>mother</td>\n",
              "      <td>2</td>\n",
              "      <td>2</td>\n",
              "      <td>0</td>\n",
              "      <td>yes</td>\n",
              "      <td>no</td>\n",
              "      <td>no</td>\n",
              "      <td>no</td>\n",
              "      <td>yes</td>\n",
              "      <td>yes</td>\n",
              "      <td>no</td>\n",
              "      <td>no</td>\n",
              "      <td>4</td>\n",
              "      <td>3</td>\n",
              "      <td>4</td>\n",
              "      <td>1</td>\n",
              "      <td>1</td>\n",
              "      <td>3</td>\n",
              "      <td>6</td>\n",
              "      <td>5</td>\n",
              "      <td>6</td>\n",
              "      <td>6</td>\n",
              "    </tr>\n",
              "    <tr>\n",
              "      <th>1</th>\n",
              "      <td>GP</td>\n",
              "      <td>F</td>\n",
              "      <td>17</td>\n",
              "      <td>U</td>\n",
              "      <td>GT3</td>\n",
              "      <td>T</td>\n",
              "      <td>1</td>\n",
              "      <td>1</td>\n",
              "      <td>at_home</td>\n",
              "      <td>other</td>\n",
              "      <td>course</td>\n",
              "      <td>father</td>\n",
              "      <td>1</td>\n",
              "      <td>2</td>\n",
              "      <td>0</td>\n",
              "      <td>no</td>\n",
              "      <td>yes</td>\n",
              "      <td>no</td>\n",
              "      <td>no</td>\n",
              "      <td>no</td>\n",
              "      <td>yes</td>\n",
              "      <td>yes</td>\n",
              "      <td>no</td>\n",
              "      <td>5</td>\n",
              "      <td>3</td>\n",
              "      <td>3</td>\n",
              "      <td>1</td>\n",
              "      <td>1</td>\n",
              "      <td>3</td>\n",
              "      <td>4</td>\n",
              "      <td>5</td>\n",
              "      <td>5</td>\n",
              "      <td>6</td>\n",
              "    </tr>\n",
              "    <tr>\n",
              "      <th>2</th>\n",
              "      <td>GP</td>\n",
              "      <td>F</td>\n",
              "      <td>15</td>\n",
              "      <td>U</td>\n",
              "      <td>LE3</td>\n",
              "      <td>T</td>\n",
              "      <td>1</td>\n",
              "      <td>1</td>\n",
              "      <td>at_home</td>\n",
              "      <td>other</td>\n",
              "      <td>other</td>\n",
              "      <td>mother</td>\n",
              "      <td>1</td>\n",
              "      <td>2</td>\n",
              "      <td>3</td>\n",
              "      <td>yes</td>\n",
              "      <td>no</td>\n",
              "      <td>yes</td>\n",
              "      <td>no</td>\n",
              "      <td>yes</td>\n",
              "      <td>yes</td>\n",
              "      <td>yes</td>\n",
              "      <td>no</td>\n",
              "      <td>4</td>\n",
              "      <td>3</td>\n",
              "      <td>2</td>\n",
              "      <td>2</td>\n",
              "      <td>3</td>\n",
              "      <td>3</td>\n",
              "      <td>10</td>\n",
              "      <td>7</td>\n",
              "      <td>8</td>\n",
              "      <td>10</td>\n",
              "    </tr>\n",
              "    <tr>\n",
              "      <th>3</th>\n",
              "      <td>GP</td>\n",
              "      <td>F</td>\n",
              "      <td>15</td>\n",
              "      <td>U</td>\n",
              "      <td>GT3</td>\n",
              "      <td>T</td>\n",
              "      <td>4</td>\n",
              "      <td>2</td>\n",
              "      <td>health</td>\n",
              "      <td>services</td>\n",
              "      <td>home</td>\n",
              "      <td>mother</td>\n",
              "      <td>1</td>\n",
              "      <td>3</td>\n",
              "      <td>0</td>\n",
              "      <td>no</td>\n",
              "      <td>yes</td>\n",
              "      <td>yes</td>\n",
              "      <td>yes</td>\n",
              "      <td>yes</td>\n",
              "      <td>yes</td>\n",
              "      <td>yes</td>\n",
              "      <td>yes</td>\n",
              "      <td>3</td>\n",
              "      <td>2</td>\n",
              "      <td>2</td>\n",
              "      <td>1</td>\n",
              "      <td>1</td>\n",
              "      <td>5</td>\n",
              "      <td>2</td>\n",
              "      <td>15</td>\n",
              "      <td>14</td>\n",
              "      <td>15</td>\n",
              "    </tr>\n",
              "    <tr>\n",
              "      <th>4</th>\n",
              "      <td>GP</td>\n",
              "      <td>F</td>\n",
              "      <td>16</td>\n",
              "      <td>U</td>\n",
              "      <td>GT3</td>\n",
              "      <td>T</td>\n",
              "      <td>3</td>\n",
              "      <td>3</td>\n",
              "      <td>other</td>\n",
              "      <td>other</td>\n",
              "      <td>home</td>\n",
              "      <td>father</td>\n",
              "      <td>1</td>\n",
              "      <td>2</td>\n",
              "      <td>0</td>\n",
              "      <td>no</td>\n",
              "      <td>yes</td>\n",
              "      <td>yes</td>\n",
              "      <td>no</td>\n",
              "      <td>yes</td>\n",
              "      <td>yes</td>\n",
              "      <td>no</td>\n",
              "      <td>no</td>\n",
              "      <td>4</td>\n",
              "      <td>3</td>\n",
              "      <td>2</td>\n",
              "      <td>1</td>\n",
              "      <td>2</td>\n",
              "      <td>5</td>\n",
              "      <td>4</td>\n",
              "      <td>6</td>\n",
              "      <td>10</td>\n",
              "      <td>10</td>\n",
              "    </tr>\n",
              "  </tbody>\n",
              "</table>\n",
              "</div>"
            ],
            "text/plain": [
              "  school sex  age address famsize Pstatus  ...  Walc  health absences  G1  G2  G3\n",
              "0     GP   F   18       U     GT3       A  ...     1       3        6   5   6   6\n",
              "1     GP   F   17       U     GT3       T  ...     1       3        4   5   5   6\n",
              "2     GP   F   15       U     LE3       T  ...     3       3       10   7   8  10\n",
              "3     GP   F   15       U     GT3       T  ...     1       5        2  15  14  15\n",
              "4     GP   F   16       U     GT3       T  ...     2       5        4   6  10  10\n",
              "\n",
              "[5 rows x 33 columns]"
            ]
          },
          "metadata": {
            "tags": []
          },
          "execution_count": 310
        }
      ]
    },
    {
      "cell_type": "code",
      "metadata": {
        "id": "yox41BZ68zn5",
        "colab_type": "code",
        "colab": {}
      },
      "source": [
        "#classPerformanceMath.dtypes\n",
        "\n",
        "classPerformanceMath = makeCatCodes(classPerformanceMath)\n",
        "classPerformancePort = makeCatCodes(classPerformancePort)\n",
        "\n",
        "featuresToAdd = []\n",
        "\n",
        "targets = classPerformanceMath[\"G3\"].to_numpy()\n",
        "del classPerformanceMath[\"G3\"]\n",
        "\n",
        "\n",
        "for col, dType in classPerformanceMath.dtypes.items():\n",
        "  if dType == int or dType == \"int8\":\n",
        "    featuresToAdd.append(col)\n",
        "\n",
        "features = normalizeData(classPerformanceMath[featuresToAdd])\n",
        "classPerformanceMath.head()"
      ],
      "execution_count": 0,
      "outputs": []
    },
    {
      "cell_type": "code",
      "metadata": {
        "id": "sWu1JxSX-MwQ",
        "colab_type": "code",
        "colab": {
          "base_uri": "https://localhost:8080/",
          "height": 221
        },
        "outputId": "8f891bd2-2bac-4dca-daab-0d812ea158b5"
      },
      "source": [
        "train_data, test_data, train_targets, test_targets = train_test_split(features, targets, test_size=.3)\n",
        "\n",
        "classifier = classifierRegr(n_neighbors=15)\n",
        "classifier.fit(train_data, train_targets)\n",
        "predictions = classifier.predict(test_data)\n",
        "\n",
        "import sklearn.metrics as sk\n",
        "\n",
        "# variance score\n",
        "print(\"Variance Score\")\n",
        "print(sk.explained_variance_score(test_targets, predictions))\n",
        "\n",
        "# max error\n",
        "from sklearn.metrics import max_error\n",
        "print(\"max error\")\n",
        "print(max_error(test_targets, predictions))\n",
        "\n",
        "# mean absolute error\n",
        "from sklearn.metrics import mean_absolute_error\n",
        "print(\"mean absolute error\")\n",
        "print(mean_absolute_error(test_targets, predictions))\n",
        "\n",
        "# Mean squared error\n",
        "from sklearn.metrics import mean_squared_error\n",
        "print(\"mean squared error\")\n",
        "print(mean_squared_error(test_targets, predictions))\n",
        "\n",
        "\n",
        "# Mean squared log error\n",
        "print (\"mean squared log error\")\n",
        "print(sk.mean_squared_log_error(test_targets, predictions))\n",
        "\n",
        "# r2 score\n",
        "print (\"r2 score\")\n",
        "print (sk.r2_score(test_targets, predictions))"
      ],
      "execution_count": 327,
      "outputs": [
        {
          "output_type": "stream",
          "text": [
            "Variance Score\n",
            "0.24230866013305208\n",
            "max error\n",
            "11.666666666666666\n",
            "mean absolute error\n",
            "2.7439775910364137\n",
            "mean squared error\n",
            "15.00392156862745\n",
            "mean squared log error\n",
            "0.5093958236018382\n",
            "r2 score\n",
            "0.24151256824358724\n"
          ],
          "name": "stdout"
        }
      ]
    },
    {
      "cell_type": "code",
      "metadata": {
        "id": "0ZE8SDwQC2HF",
        "colab_type": "code",
        "colab": {
          "base_uri": "https://localhost:8080/",
          "height": 51
        },
        "outputId": "2e3f32d0-cc64-480a-fb74-6ed796643581"
      },
      "source": [
        "print(test_targets[:5])\n",
        "print(predictions[:5])"
      ],
      "execution_count": 333,
      "outputs": [
        {
          "output_type": "stream",
          "text": [
            "[ 0  7  6 15  8]\n",
            "[11.          9.06666667 12.46666667  9.06666667 12.26666667]\n"
          ],
          "name": "stdout"
        }
      ]
    },
    {
      "cell_type": "code",
      "metadata": {
        "id": "4aubvlDTDBFk",
        "colab_type": "code",
        "colab": {}
      },
      "source": [
        ""
      ],
      "execution_count": 0,
      "outputs": []
    }
  ]
}